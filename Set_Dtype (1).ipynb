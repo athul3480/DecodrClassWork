{
 "cells": [
  {
   "cell_type": "markdown",
   "metadata": {
    "id": "jh5m4BfimJbE"
   },
   "source": [
    "**[Slide No. 41]**\n",
    "\n",
    "1. Write a Python program to create a set."
   ]
  },
  {
   "cell_type": "code",
   "execution_count": 2,
   "metadata": {
    "colab": {
     "base_uri": "https://localhost:8080/"
    },
    "executionInfo": {
     "elapsed": 39,
     "status": "ok",
     "timestamp": 1621776408787,
     "user": {
      "displayName": "Krishan Kumar",
      "photoUrl": "",
      "userId": "12260471180281868064"
     },
     "user_tz": 420
    },
    "id": "CTpqrX9_n3Sc",
    "outputId": "f02feb86-3556-4705-fad3-71c8a9b57957"
   },
   "outputs": [
    {
     "name": "stdout",
     "output_type": "stream",
     "text": [
      "<class 'set'>\n"
     ]
    }
   ],
   "source": [
    "\n",
    "s1 = {1,2,3,4}\n",
    "print(type(s1))"
   ]
  },
  {
   "cell_type": "markdown",
   "metadata": {
    "id": "u1lQCDqqmJvW"
   },
   "source": [
    "**[Slide No.41]**\n",
    "\n",
    "2. Write a Python program to add member(s) in a set."
   ]
  },
  {
   "cell_type": "code",
   "execution_count": 4,
   "metadata": {
    "colab": {
     "base_uri": "https://localhost:8080/"
    },
    "executionInfo": {
     "elapsed": 512,
     "status": "ok",
     "timestamp": 1621776747557,
     "user": {
      "displayName": "Krishan Kumar",
      "photoUrl": "",
      "userId": "12260471180281868064"
     },
     "user_tz": 420
    },
    "id": "G3Mwr81Wn3vK",
    "outputId": "5d4b4619-3282-4c28-b2c7-1b0a70a4735b"
   },
   "outputs": [
    {
     "name": "stdout",
     "output_type": "stream",
     "text": [
      "{1, 2, 3, 4, 5}\n"
     ]
    }
   ],
   "source": [
    "s1 = {1,2,3,4}\n",
    "s1.add(5)\n",
    "print(s1)"
   ]
  },
  {
   "cell_type": "markdown",
   "metadata": {
    "id": "_K8Yt3yCmJy7"
   },
   "source": [
    "**[Slide No. 41]**\n",
    " \n",
    " 3. Write a Python program to add string , int, list and float  member(s) in a set."
   ]
  },
  {
   "cell_type": "code",
   "execution_count": null,
   "metadata": {
    "colab": {
     "base_uri": "https://localhost:8080/"
    },
    "executionInfo": {
     "elapsed": 2754,
     "status": "ok",
     "timestamp": 1619161131867,
     "user": {
      "displayName": "Krishan Kumar",
      "photoUrl": "",
      "userId": "12260471180281868064"
     },
     "user_tz": 420
    },
    "id": "LRjHXMPXn4RT",
    "outputId": "03941903-5cad-4d7e-e6cc-3a25ee265cbf"
   },
   "outputs": [],
   "source": []
  },
  {
   "cell_type": "markdown",
   "metadata": {
    "id": "eP30xm0cmJ2K"
   },
   "source": [
    "**[Slide No. 41]**\n",
    "\n",
    "4. Write a program to add multiple element in set. "
   ]
  },
  {
   "cell_type": "code",
   "execution_count": 11,
   "metadata": {
    "id": "wIt1MXX2n4va"
   },
   "outputs": [
    {
     "name": "stdout",
     "output_type": "stream",
     "text": [
      "{1, 2, 3, 4, 5, 6}\n"
     ]
    }
   ],
   "source": [
    "s1 = {1,2,3,4}\n",
    "s2 = [5,6]\n",
    "s1.update(s2)\n",
    "print(s1)"
   ]
  },
  {
   "cell_type": "markdown",
   "metadata": {
    "id": "MMb-QgjymJ5h"
   },
   "source": [
    "**[Slide No. 43]**\n",
    "\n",
    "5. What is the output :\n",
    "\n",
    "my_set = {1, 3, 4, 5, 6}\n",
    "\n",
    "Explain the difference between discard and remove method in set"
   ]
  },
  {
   "cell_type": "code",
   "execution_count": 12,
   "metadata": {
    "colab": {
     "base_uri": "https://localhost:8080/"
    },
    "executionInfo": {
     "elapsed": 459,
     "status": "ok",
     "timestamp": 1621776952145,
     "user": {
      "displayName": "Krishan Kumar",
      "photoUrl": "",
      "userId": "12260471180281868064"
     },
     "user_tz": 420
    },
    "id": "aWiaJsGBn5X1",
    "outputId": "c82d7d04-3f42-415e-865b-fdffa562c6cf"
   },
   "outputs": [],
   "source": [
    "my_set = {1, 3, 4, 5, 6}"
   ]
  },
  {
   "cell_type": "code",
   "execution_count": null,
   "metadata": {},
   "outputs": [],
   "source": [
    "#remove functions only if element is present in the set,else an error is thrown. Discard doesnt thrown an error even if the element is  not in the set"
   ]
  },
  {
   "cell_type": "markdown",
   "metadata": {
    "id": "232Wx7ZqmJ7u"
   },
   "source": [
    "**[Slide No. 42]**\n",
    "\n",
    "6. Write a program to remove duplicate value from set.\n"
   ]
  },
  {
   "cell_type": "code",
   "execution_count": 14,
   "metadata": {
    "id": "0eDe4Ofln56S"
   },
   "outputs": [
    {
     "name": "stdout",
     "output_type": "stream",
     "text": [
      "{1, 2, 3, 4, 5}\n"
     ]
    }
   ],
   "source": [
    "set1={1,2,3,4,4,5,4,3,5}\n",
    "print(set1)   #no duplicates allowede in set, its automatically removes the repeated elements."
   ]
  },
  {
   "cell_type": "markdown",
   "metadata": {
    "id": "UuFjaDp7mJ-0"
   },
   "source": [
    "7.  Write a Python program to clear a set."
   ]
  },
  {
   "cell_type": "code",
   "execution_count": 16,
   "metadata": {
    "id": "2Wp51_BJn6XI"
   },
   "outputs": [
    {
     "name": "stdout",
     "output_type": "stream",
     "text": [
      "{1, 2, 3, 4, 5}\n",
      "set()\n"
     ]
    }
   ],
   "source": [
    "set1={1,2,3,4,4,5,4,3,5}\n",
    "print(set1)\n",
    "set1.clear()\n",
    "print(set1)"
   ]
  },
  {
   "cell_type": "markdown",
   "metadata": {
    "id": "ymIOwvtSmKCN"
   },
   "source": [
    "**[Slide No. 43]**\n",
    "\n",
    "8. Write a program to add two set."
   ]
  },
  {
   "cell_type": "code",
   "execution_count": 18,
   "metadata": {
    "id": "v7HfWA6On7DN"
   },
   "outputs": [
    {
     "data": {
      "text/plain": [
       "{1, 2, 3, 4, 5, 'blue', 'red'}"
      ]
     },
     "execution_count": 18,
     "metadata": {},
     "output_type": "execute_result"
    }
   ],
   "source": [
    "set1={1,2,3,4,4,5,4,3,5}\n",
    "set2={'red','blue'}\n",
    "set1.update(set2)\n",
    "set1"
   ]
  },
  {
   "cell_type": "markdown",
   "metadata": {
    "id": "MYFq0syFmKFm"
   },
   "source": [
    "**[Slide No. 43]**\n",
    "\n",
    "9. What is the output of:\n",
    "\n",
    "months = set([\"January\",\"February\", \"March\", \"April\", \"May\", \"June\"])   \n",
    "\n",
    "print(\"\\nprinting the original set ... \")    \n",
    "\n",
    "-Q. Print the set month    \n",
    "\n",
    "print(\"\\nRemoving some months from the set...\");    \n",
    "\n",
    "-Q. Remove january  from the set    \n",
    "\n",
    "-Q. Remove may  from the set  \n",
    "\n",
    "\n",
    "print(\"\\nPrinting the modified set...\");    \n",
    "\n",
    "print(months)  \n",
    "\n"
   ]
  },
  {
   "cell_type": "code",
   "execution_count": 19,
   "metadata": {
    "id": "YSeAk9Bin7ij"
   },
   "outputs": [
    {
     "name": "stdout",
     "output_type": "stream",
     "text": [
      "{'April', 'June', 'January', 'May', 'February', 'March'}\n"
     ]
    }
   ],
   "source": [
    "months = set([\"January\",\"February\", \"March\", \"April\", \"May\", \"June\"])\n",
    "print(months)\n"
   ]
  },
  {
   "cell_type": "code",
   "execution_count": 23,
   "metadata": {},
   "outputs": [
    {
     "name": "stdout",
     "output_type": "stream",
     "text": [
      "\n",
      "Removing some months from the set...\n",
      "{'April', 'June', 'May', 'February', 'March'}\n"
     ]
    }
   ],
   "source": [
    "months = set([\"January\",\"February\", \"March\", \"April\", \"May\", \"June\"])\n",
    "print(\"\\nRemoving some months from the set...\")\n",
    "months.remove('January')\n",
    "print(months)"
   ]
  },
  {
   "cell_type": "code",
   "execution_count": 25,
   "metadata": {},
   "outputs": [
    {
     "name": "stdout",
     "output_type": "stream",
     "text": [
      "{'April', 'June', 'February', 'March'}\n"
     ]
    }
   ],
   "source": [
    "months.remove('May')\n",
    "print(months)"
   ]
  },
  {
   "cell_type": "markdown",
   "metadata": {
    "id": "OPGKae_wmKIy"
   },
   "source": [
    "**[Slide No. 44]**\n",
    "\n",
    "10. Find union of\n",
    "\n",
    "Days1 = {\"Monday\",\"Tuesday\",\"Wednesday\",\"Thursday\"}\n",
    "    \n",
    "Days2 = {\"Friday\",\"Saturday\",\"Sunday\"}   "
   ]
  },
  {
   "cell_type": "code",
   "execution_count": 26,
   "metadata": {
    "id": "IJBJD9D106cY"
   },
   "outputs": [
    {
     "data": {
      "text/plain": [
       "{'Friday', 'Monday', 'Saturday', 'Sunday', 'Thursday', 'Tuesday', 'Wednesday'}"
      ]
     },
     "execution_count": 26,
     "metadata": {},
     "output_type": "execute_result"
    }
   ],
   "source": [
    "Days1 = {\"Monday\",\"Tuesday\",\"Wednesday\",\"Thursday\"}\n",
    "\n",
    "Days2 = {\"Friday\",\"Saturday\",\"Sunday\"}\n",
    "Days1.union(Days2)"
   ]
  },
  {
   "cell_type": "markdown",
   "metadata": {
    "id": "VpAPmiIBoNaS"
   },
   "source": [
    "**[Slide No. 45]**\n",
    "\n",
    " 11. Write a Python program to create an intersection of sets."
   ]
  },
  {
   "cell_type": "code",
   "execution_count": 28,
   "metadata": {
    "id": "MRzfzZ3bn8O0"
   },
   "outputs": [
    {
     "data": {
      "text/plain": [
       "{'Sunday'}"
      ]
     },
     "execution_count": 28,
     "metadata": {},
     "output_type": "execute_result"
    }
   ],
   "source": [
    "Days1 = {\"Monday\",\"Tuesday\",\"Wednesday\",\"Thursday\",'Sunday'}\n",
    "\n",
    "Days2 = {\"Friday\",\"Saturday\",\"Sunday\"}\n",
    "Days1.intersection(Days2)"
   ]
  },
  {
   "cell_type": "markdown",
   "metadata": {
    "id": "iIFHboGboH9v"
   },
   "source": [
    "**[Slide No. 45]**\n",
    "\n",
    "12. Write a Python program to create set difference."
   ]
  },
  {
   "cell_type": "code",
   "execution_count": 31,
   "metadata": {
    "id": "E5RwOmVNtTie"
   },
   "outputs": [
    {
     "data": {
      "text/plain": [
       "{'Thursday', 'Tuesday', 'Wednesday'}"
      ]
     },
     "execution_count": 31,
     "metadata": {},
     "output_type": "execute_result"
    }
   ],
   "source": [
    "Days1 = {\"Monday\",\"Tuesday\",\"Wednesday\",\"Thursday\",'Sunday'}\n",
    "\n",
    "Days2 = {\"Friday\",\"Saturday\",\"Sunday\",'Monday'}\n",
    "Days1.difference(Days2)"
   ]
  },
  {
   "cell_type": "code",
   "execution_count": null,
   "metadata": {},
   "outputs": [],
   "source": []
  }
 ],
 "metadata": {
  "colab": {
   "collapsed_sections": [],
   "name": "Set_Dtype.ipynb",
   "provenance": []
  },
  "kernelspec": {
   "display_name": "Python 3",
   "language": "python",
   "name": "python3"
  },
  "language_info": {
   "codemirror_mode": {
    "name": "ipython",
    "version": 3
   },
   "file_extension": ".py",
   "mimetype": "text/x-python",
   "name": "python",
   "nbconvert_exporter": "python",
   "pygments_lexer": "ipython3",
   "version": "3.7.3"
  }
 },
 "nbformat": 4,
 "nbformat_minor": 1
}
