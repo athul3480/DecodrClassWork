{
 "cells": [
  {
   "cell_type": "markdown",
   "metadata": {
    "id": "VtM_1fUHQZjs"
   },
   "source": [
    "**[Slide No.69]**\n",
    "\n",
    "1. Write a function to print Hello world! ."
   ]
  },
  {
   "cell_type": "code",
   "execution_count": 1,
   "metadata": {
    "id": "8hArxLQ3eI30"
   },
   "outputs": [],
   "source": [
    "def funct1():\n",
    "    print(\"Hello World\")\n",
    "    "
   ]
  },
  {
   "cell_type": "code",
   "execution_count": 2,
   "metadata": {},
   "outputs": [
    {
     "name": "stdout",
     "output_type": "stream",
     "text": [
      "Hello World\n"
     ]
    }
   ],
   "source": [
    "funct1()"
   ]
  },
  {
   "cell_type": "markdown",
   "metadata": {
    "id": "AEytpP9-QZnm"
   },
   "source": [
    "**[Slide No. 69]**\n",
    "\n",
    "2. Write a function to print  Hello four times ."
   ]
  },
  {
   "cell_type": "code",
   "execution_count": 5,
   "metadata": {
    "id": "PZWc8iKUeI32"
   },
   "outputs": [],
   "source": [
    "def funct2():\n",
    "    for i in range(4):\n",
    "        \n",
    "        print(\"Hello World\")"
   ]
  },
  {
   "cell_type": "code",
   "execution_count": 6,
   "metadata": {},
   "outputs": [
    {
     "name": "stdout",
     "output_type": "stream",
     "text": [
      "Hello World\n",
      "Hello World\n",
      "Hello World\n",
      "Hello World\n"
     ]
    }
   ],
   "source": [
    "funct2()"
   ]
  },
  {
   "cell_type": "markdown",
   "metadata": {
    "id": "Muh15NjoQZqU"
   },
   "source": [
    "**[Slide No. 69]**\n",
    "\n",
    "3. Write a function to find the diff, add , mul of two numbers."
   ]
  },
  {
   "cell_type": "code",
   "execution_count": 9,
   "metadata": {
    "id": "EB_uPH4_eI33"
   },
   "outputs": [],
   "source": [
    "def funct3(a,b):\n",
    "    print(\"sum= \", a+b)\n",
    "    print(\"Diff= \", a-b)\n",
    "    print(\"Mult= \", a*b)\n",
    "    "
   ]
  },
  {
   "cell_type": "code",
   "execution_count": 10,
   "metadata": {},
   "outputs": [
    {
     "name": "stdout",
     "output_type": "stream",
     "text": [
      "sum=  8\n",
      "Diff=  2\n",
      "Mult=  15\n"
     ]
    }
   ],
   "source": [
    "funct3(5,3)"
   ]
  },
  {
   "cell_type": "markdown",
   "metadata": {
    "id": "YxdYhJt_QZso"
   },
   "source": [
    "**[Slide No. 69]**\n",
    "\n",
    " 4. Write the function to find the factorial of a number ."
   ]
  },
  {
   "cell_type": "code",
   "execution_count": 11,
   "metadata": {
    "id": "WKZ7rpbXeI34"
   },
   "outputs": [],
   "source": [
    "def factorial(n):\n",
    "    m=1\n",
    "    for n in range(n,1,-1):\n",
    "        m=m*(n)\n",
    "    return(m) "
   ]
  },
  {
   "cell_type": "code",
   "execution_count": 12,
   "metadata": {},
   "outputs": [
    {
     "name": "stdout",
     "output_type": "stream",
     "text": [
      "10\n"
     ]
    },
    {
     "data": {
      "text/plain": [
       "3628800"
      ]
     },
     "execution_count": 12,
     "metadata": {},
     "output_type": "execute_result"
    }
   ],
   "source": [
    "num = int(input())\n",
    "\n",
    "m=factorial(num)\n",
    "m"
   ]
  },
  {
   "cell_type": "markdown",
   "metadata": {
    "id": "DSKYQlqEQZwq"
   },
   "source": [
    "**[Slide No. 69]**\n",
    "\n",
    "5. Write a function to find the square of a number "
   ]
  },
  {
   "cell_type": "code",
   "execution_count": 13,
   "metadata": {
    "id": "2tRoMbJneI35"
   },
   "outputs": [],
   "source": [
    "def funct4(a):\n",
    "    a=a**2\n",
    "    return a\n"
   ]
  },
  {
   "cell_type": "code",
   "execution_count": 14,
   "metadata": {},
   "outputs": [
    {
     "name": "stdout",
     "output_type": "stream",
     "text": [
      "9\n"
     ]
    },
    {
     "data": {
      "text/plain": [
       "81"
      ]
     },
     "execution_count": 14,
     "metadata": {},
     "output_type": "execute_result"
    }
   ],
   "source": [
    "num= int(input())\n",
    "funct4(num)"
   ]
  },
  {
   "cell_type": "markdown",
   "metadata": {
    "id": "jUYHpxnoT9Ef"
   },
   "source": [
    "**[Slide No. 69]**\n",
    "\n",
    "6. Write the output of the program \n",
    "\n"
   ]
  },
  {
   "cell_type": "code",
   "execution_count": null,
   "metadata": {
    "id": "ZzdBo-VkeI36"
   },
   "outputs": [],
   "source": []
  },
  {
   "cell_type": "markdown",
   "metadata": {
    "id": "yVUoKQsoV8d_"
   },
   "source": [
    "**[Slide No. 73]**\n",
    "\n",
    "7. Check the output of the program:\n",
    "\n",
    "myAdd = lambda x, y,z: x + y+z\n",
    "\n",
    "print (myAdd(6, 10,15))\n",
    "\n",
    "print (myAdd(7, 20,4))\n",
    "\n",
    "print (type(myAdd))"
   ]
  },
  {
   "cell_type": "code",
   "execution_count": 15,
   "metadata": {
    "id": "N_Sqbm2beI36"
   },
   "outputs": [
    {
     "name": "stdout",
     "output_type": "stream",
     "text": [
      "31\n",
      "31\n",
      "<class 'function'>\n"
     ]
    }
   ],
   "source": [
    "myAdd = lambda x, y,z: x + y+z\n",
    "\n",
    "print (myAdd(6, 10,15))\n",
    "\n",
    "print (myAdd(7, 20,4))\n",
    "\n",
    "print (type(myAdd))"
   ]
  },
  {
   "cell_type": "markdown",
   "metadata": {
    "id": "LRC5kSgo2uqt"
   },
   "source": [
    "**[Slide No. 73]**\n",
    "\n",
    "8. Write a Python program to create a lambda function that adds 15 to a given number passed in as an argument."
   ]
  },
  {
   "cell_type": "code",
   "execution_count": 16,
   "metadata": {
    "id": "_RIobTypeI37"
   },
   "outputs": [
    {
     "name": "stdout",
     "output_type": "stream",
     "text": [
      "16\n",
      "31\n"
     ]
    }
   ],
   "source": [
    "Add15 = lambda x: x + 15\n",
    "num=int(input())\n",
    "print(Add15(num))"
   ]
  },
  {
   "cell_type": "markdown",
   "metadata": {
    "id": "KaRTkOYQ3PYc"
   },
   "source": [
    "**[Slide No. 73]**\n",
    "\n",
    "9. create a lambda function that multiplies argument x with argument y and print the result."
   ]
  },
  {
   "cell_type": "code",
   "execution_count": 17,
   "metadata": {
    "id": "AI4cpLZPd-pH"
   },
   "outputs": [
    {
     "name": "stdout",
     "output_type": "stream",
     "text": [
      "5\n",
      "5\n",
      "25\n"
     ]
    }
   ],
   "source": [
    "multi = lambda x,y: x * y\n",
    "a= int(input())\n",
    "b= int(input())\n",
    "print(multi(a,b))"
   ]
  },
  {
   "cell_type": "code",
   "execution_count": null,
   "metadata": {},
   "outputs": [],
   "source": []
  }
 ],
 "metadata": {
  "colab": {
   "collapsed_sections": [],
   "name": "Function-Questions.ipynb",
   "provenance": []
  },
  "kernelspec": {
   "display_name": "Python 3",
   "language": "python",
   "name": "python3"
  },
  "language_info": {
   "codemirror_mode": {
    "name": "ipython",
    "version": 3
   },
   "file_extension": ".py",
   "mimetype": "text/x-python",
   "name": "python",
   "nbconvert_exporter": "python",
   "pygments_lexer": "ipython3",
   "version": "3.7.3"
  }
 },
 "nbformat": 4,
 "nbformat_minor": 1
}
