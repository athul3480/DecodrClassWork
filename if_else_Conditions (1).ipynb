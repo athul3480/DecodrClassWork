{
 "cells": [
  {
   "cell_type": "markdown",
   "metadata": {
    "id": "R4WDgVjUKTuW"
   },
   "source": [
    "**[Slide no.52]**\n",
    "\n",
    "1. write a program to Check wheather the age entered by user is above 18 or not?"
   ]
  },
  {
   "cell_type": "code",
   "execution_count": 1,
   "metadata": {
    "colab": {
     "base_uri": "https://localhost:8080/"
    },
    "id": "QUYDTLIKKVM3",
    "outputId": "4b5a7dd2-7502-44eb-88de-03ae2eff11ef"
   },
   "outputs": [
    {
     "name": "stdout",
     "output_type": "stream",
     "text": [
      "Enter age: 19\n",
      "Above 18\n"
     ]
    }
   ],
   "source": [
    "age = int(input(\"Enter age: \"))  \n",
    "\n",
    "if (age > 18): \n",
    "\tprint(\"Above 18\") \n",
    "else: \n",
    "\tprint(\"below 18\") "
   ]
  },
  {
   "cell_type": "markdown",
   "metadata": {
    "id": "UtMMk_C_KVaA"
   },
   "source": [
    "**[Slide No. 52]**\n",
    "\n",
    "2. Write a program to check number entered is even or not ?"
   ]
  },
  {
   "cell_type": "code",
   "execution_count": 3,
   "metadata": {
    "id": "tdX72iluKVu5"
   },
   "outputs": [
    {
     "name": "stdout",
     "output_type": "stream",
     "text": [
      "Enter  a Number: 21\n",
      "Odd\n"
     ]
    }
   ],
   "source": [
    "A = int(input(\"Enter  a Number: \"))  \n",
    "\n",
    "if (A % 2 == 0): \n",
    "\tprint(\"Even\") \n",
    "else: \n",
    "\tprint(\"Odd\")"
   ]
  },
  {
   "cell_type": "markdown",
   "metadata": {
    "id": "Pf8qWzurKWDn"
   },
   "source": [
    "**[Slide No. 53]**\n",
    "\n",
    "3. Write a program to print largest number from three given numbers."
   ]
  },
  {
   "cell_type": "code",
   "execution_count": 5,
   "metadata": {
    "id": "RlgJ1ag0MjCy"
   },
   "outputs": [
    {
     "name": "stdout",
     "output_type": "stream",
     "text": [
      "c is the largest Number\n"
     ]
    }
   ],
   "source": [
    "a=45\n",
    "b=76\n",
    "c=94\n",
    "\n",
    "if (a > b):\n",
    "    if (a>c):\n",
    "        print(\"a is the laregest Number\")\n",
    "    else:\n",
    "        print(\"c is teh largest number\") \n",
    "elif(b>c):\n",
    "\tprint(\"B is largest Number\")\n",
    "else:\n",
    "    print(\"c is the largest Number\")"
   ]
  },
  {
   "cell_type": "markdown",
   "metadata": {
    "id": "lXjKH26aKWHy"
   },
   "source": [
    "**[Slide No.54]**\n",
    "\n",
    "4. Write a program to check whether the user enter number is 10,50 and 100 .\n",
    "\n"
   ]
  },
  {
   "cell_type": "code",
   "execution_count": 8,
   "metadata": {
    "id": "4IsUverrMj-s"
   },
   "outputs": [
    {
     "name": "stdout",
     "output_type": "stream",
     "text": [
      "Enter Value of A: 11\n",
      "Enter Value of B: 20\n",
      "Enter Value of C: 30\n",
      "Incorrect Values\n"
     ]
    }
   ],
   "source": [
    "a = int(input(\"Enter Value of A: \"))\n",
    "b = int(input(\"Enter Value of B: \"))\n",
    "c = int(input(\"Enter Value of C: \"))\n",
    "if(a==10  and b==20 and c==30):\n",
    "    print(\"You have Entered Correct Values\")\n",
    "else: \n",
    "    print(\"Incorrect Values\")"
   ]
  },
  {
   "cell_type": "markdown",
   "metadata": {
    "id": "hzFpudkgKWhJ"
   },
   "source": [
    "**[Slide No. 54]**\n",
    "\n",
    "5. Write a program to check given number is multiple of 6 or not ."
   ]
  },
  {
   "cell_type": "code",
   "execution_count": 10,
   "metadata": {
    "id": "GcyVovq0y9Ak"
   },
   "outputs": [
    {
     "name": "stdout",
     "output_type": "stream",
     "text": [
      "Enter  a Number: 48\n",
      "48  Is a multiple of 6\n"
     ]
    }
   ],
   "source": [
    "A = int(input(\"Enter  a Number: \"))  \n",
    "\n",
    "if (A % 6 == 0): \n",
    "\tprint(A,\" Is a multiple of 6\") \n",
    "else: \n",
    "\tprint(A,\" not a multiple of 6\")"
   ]
  },
  {
   "cell_type": "markdown",
   "metadata": {
    "id": "ih7KTp-1HD9F"
   },
   "source": [
    "6.Write av program to check enter number is prime or not"
   ]
  },
  {
   "cell_type": "code",
   "execution_count": null,
   "metadata": {
    "id": "XCZTMjr0HDg-"
   },
   "outputs": [],
   "source": [
    "\n",
    "\n"
   ]
  },
  {
   "cell_type": "code",
   "execution_count": null,
   "metadata": {
    "id": "AzGl-zkySUA1"
   },
   "outputs": [],
   "source": []
  },
  {
   "cell_type": "code",
   "execution_count": null,
   "metadata": {
    "id": "FeEqQWEEdT-X"
   },
   "outputs": [],
   "source": []
  }
 ],
 "metadata": {
  "colab": {
   "collapsed_sections": [],
   "name": "if_else Conditions.ipynb",
   "provenance": []
  },
  "kernelspec": {
   "display_name": "Python 3",
   "language": "python",
   "name": "python3"
  },
  "language_info": {
   "codemirror_mode": {
    "name": "ipython",
    "version": 3
   },
   "file_extension": ".py",
   "mimetype": "text/x-python",
   "name": "python",
   "nbconvert_exporter": "python",
   "pygments_lexer": "ipython3",
   "version": "3.7.3"
  }
 },
 "nbformat": 4,
 "nbformat_minor": 1
}
