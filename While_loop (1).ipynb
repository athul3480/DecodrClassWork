{
 "cells": [
  {
   "cell_type": "markdown",
   "metadata": {},
   "source": [
    "# 1. Print multiplication table of 24 and 50 upto 10"
   ]
  },
  {
   "cell_type": "code",
   "execution_count": 2,
   "metadata": {},
   "outputs": [
    {
     "name": "stdout",
     "output_type": "stream",
     "text": [
      "Multiplication Table of: 24 \n",
      "24 x 1 = 24\n",
      "24 x 2 = 48\n",
      "24 x 3 = 72\n",
      "24 x 4 = 96\n",
      "24 x 5 = 120\n",
      "24 x 6 = 144\n",
      "24 x 7 = 168\n",
      "24 x 8 = 192\n",
      "24 x 9 = 216\n",
      "24 x 10 = 240\n",
      "Multiplication Table of: 50 \n",
      "50 x 1 = 50\n",
      "50 x 2 = 100\n",
      "50 x 3 = 150\n",
      "50 x 4 = 200\n",
      "50 x 5 = 250\n",
      "50 x 6 = 300\n",
      "50 x 7 = 350\n",
      "50 x 8 = 400\n",
      "50 x 9 = 450\n",
      "50 x 10 = 500\n"
     ]
    }
   ],
   "source": [
    "i = 1  \n",
    "print(\"Multiplication Table of: 24 \")  \n",
    "while i<=10:  \n",
    "     \n",
    "    print(24,'x',i,'=',24*i)  \n",
    "    i += 1  \n",
    "i=1\n",
    "print(\"Multiplication Table of: 50 \")  \n",
    "while i<=10:  \n",
    " \n",
    "    print(50,'x',i,'=',50*i)  \n",
    "    i += 1  "
   ]
  },
  {
   "cell_type": "markdown",
   "metadata": {},
   "source": [
    "# 2.Write a while loop statement to print the following series 107,100,93,86....9"
   ]
  },
  {
   "cell_type": "code",
   "execution_count": 5,
   "metadata": {},
   "outputs": [
    {
     "name": "stdout",
     "output_type": "stream",
     "text": [
      "107\n",
      "100\n",
      "93\n",
      "86\n",
      "79\n",
      "72\n",
      "65\n",
      "58\n",
      "51\n",
      "44\n",
      "37\n",
      "30\n",
      "23\n",
      "16\n",
      "9\n"
     ]
    }
   ],
   "source": [
    "i=107\n",
    "while(i>=9):\n",
    "    print(i)\n",
    "    i=i-7"
   ]
  },
  {
   "cell_type": "markdown",
   "metadata": {},
   "source": [
    "# 3. Write a program to print the factorial of a number accepted from user."
   ]
  },
  {
   "cell_type": "code",
   "execution_count": 8,
   "metadata": {},
   "outputs": [
    {
     "name": "stdout",
     "output_type": "stream",
     "text": [
      "Enter a number: 4\n",
      "The factorial of 4 is 24\n"
     ]
    }
   ],
   "source": [
    "num = int(input(\"Enter a number: \"))    \n",
    "f = 1    \n",
    "if num < 0:    \n",
    "   print(\" Factorial does not exist for negative numbers\")    \n",
    "elif num == 0:    \n",
    "   print(\"The factorial of 0 is 1\")    \n",
    "else:    \n",
    "   for i in range(1,num + 1):    \n",
    "       f = f*i    \n",
    "   print(\"The factorial of\",num,\"is\",f)  "
   ]
  },
  {
   "cell_type": "markdown",
   "metadata": {},
   "source": [
    "# 4.Write a program to accept 10 numbers from the user and display it’s average"
   ]
  },
  {
   "cell_type": "code",
   "execution_count": null,
   "metadata": {},
   "outputs": [],
   "source": [
    "i=1\n",
    "m=0\n",
    "print(\"Enter 10 Numbers\")\n",
    "while(i<11):\n",
    "   \n",
    "    n=int(input())\n",
    "    m=m+n\n",
    "    i=i+1\n",
    "print(\"Avg Of Entered Numbers is : \", m/10)    \n",
    "    \n",
    "    "
   ]
  },
  {
   "cell_type": "markdown",
   "metadata": {},
   "source": [
    "# 5. Write a program to print the following series till n terms. 2 , 22 , 222 , 2222 _ _ _ _ _ n terms"
   ]
  },
  {
   "cell_type": "code",
   "execution_count": null,
   "metadata": {},
   "outputs": [],
   "source": [
    "a = 2\n",
    "b = 1\n",
    "while(b <= 5):\n",
    "    \n",
    "    print(a)\n",
    "    a = a * 10 + 2\n",
    "    b = b + 1 \n",
    "    \n",
    " \n",
    "    "
   ]
  },
  {
   "cell_type": "markdown",
   "metadata": {},
   "source": [
    "# 6.Write a Program to print all the characters in the string ‘PYTHON’ using while loop."
   ]
  },
  {
   "cell_type": "code",
   "execution_count": null,
   "metadata": {},
   "outputs": [],
   "source": [
    "str1=\"python\"\n",
    "i=0\n",
    "while(i<len(str1)):\n",
    "    print(str1[i])\n",
    "    i=i+1"
   ]
  },
  {
   "cell_type": "code",
   "execution_count": null,
   "metadata": {},
   "outputs": [],
   "source": []
  }
 ],
 "metadata": {
  "kernelspec": {
   "display_name": "Python 3",
   "language": "python",
   "name": "python3"
  },
  "language_info": {
   "codemirror_mode": {
    "name": "ipython",
    "version": 3
   },
   "file_extension": ".py",
   "mimetype": "text/x-python",
   "name": "python",
   "nbconvert_exporter": "python",
   "pygments_lexer": "ipython3",
   "version": "3.7.3"
  }
 },
 "nbformat": 4,
 "nbformat_minor": 5
}
