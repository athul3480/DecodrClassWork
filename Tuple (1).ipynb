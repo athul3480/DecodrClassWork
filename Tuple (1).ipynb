{
 "cells": [
  {
   "cell_type": "markdown",
   "metadata": {
    "id": "6BrA-4Y0uj1t"
   },
   "source": [
    "[Slide No- 39]\n",
    "\n",
    "1. Create empty tuple and check its Data type."
   ]
  },
  {
   "cell_type": "code",
   "execution_count": 2,
   "metadata": {
    "colab": {
     "base_uri": "https://localhost:8080/"
    },
    "executionInfo": {
     "elapsed": 38,
     "status": "ok",
     "timestamp": 1621774414042,
     "user": {
      "displayName": "Krishan Kumar",
      "photoUrl": "",
      "userId": "12260471180281868064"
     },
     "user_tz": 420
    },
    "id": "EFzfOlfre9KM",
    "outputId": "32ba76c5-3a7d-414d-e9cb-79300bfed4bc"
   },
   "outputs": [
    {
     "data": {
      "text/plain": [
       "tuple"
      ]
     },
     "execution_count": 2,
     "metadata": {},
     "output_type": "execute_result"
    }
   ],
   "source": [
    "T1=(1,2,3,4)\n",
    "type(T1)\n"
   ]
  },
  {
   "cell_type": "markdown",
   "metadata": {
    "id": "0yF34ew-rA8r"
   },
   "source": [
    "**[Slide No. - 39]**\n",
    "\n",
    "\n",
    "\n",
    "2. Check the output : \n",
    "T1 = (101, \"Peter\", 22)    \n",
    "\n",
    "T2 = (\"Apple\", \"Banana\", \"Orange\") \n",
    "\n",
    "T3 = (10,20,30,40,50)  \n",
    "\n",
    "Print Data type of each tuple."
   ]
  },
  {
   "cell_type": "code",
   "execution_count": 3,
   "metadata": {
    "colab": {
     "base_uri": "https://localhost:8080/"
    },
    "executionInfo": {
     "elapsed": 485,
     "status": "ok",
     "timestamp": 1621774547077,
     "user": {
      "displayName": "Krishan Kumar",
      "photoUrl": "",
      "userId": "12260471180281868064"
     },
     "user_tz": 420
    },
    "id": "osF6Ro0Je9g7",
    "outputId": "7a165c5e-645a-4502-8723-b58433ef87a1"
   },
   "outputs": [],
   "source": [
    "T1 = (101, \"Peter\", 22)\n",
    "T2 = (\"Apple\", \"Banana\", \"Orange\")\n",
    "T3 = (10,20,30,40,50)"
   ]
  },
  {
   "cell_type": "code",
   "execution_count": 5,
   "metadata": {},
   "outputs": [
    {
     "name": "stdout",
     "output_type": "stream",
     "text": [
      "<class 'tuple'>\n",
      "<class 'tuple'>\n",
      "<class 'tuple'>\n"
     ]
    }
   ],
   "source": [
    "print(type(T1))\n",
    "print(type(T2))\n",
    "print(type(T3))"
   ]
  },
  {
   "cell_type": "markdown",
   "metadata": {
    "id": "ghTaF2EmrBCJ"
   },
   "source": [
    "**[Slide No. - 40]**\n",
    "\n",
    "3.Write the program to print 0 index item of tuple .\n",
    "\n",
    "tup = (1,2,3,4,5,6,7)\n",
    "\n"
   ]
  },
  {
   "cell_type": "code",
   "execution_count": 7,
   "metadata": {
    "colab": {
     "base_uri": "https://localhost:8080/"
    },
    "executionInfo": {
     "elapsed": 445,
     "status": "ok",
     "timestamp": 1621774629186,
     "user": {
      "displayName": "Krishan Kumar",
      "photoUrl": "",
      "userId": "12260471180281868064"
     },
     "user_tz": 420
    },
    "id": "3jJBczMne-G7",
    "outputId": "c853cc62-e4dc-43ce-fd73-889fb0b39aec"
   },
   "outputs": [
    {
     "name": "stdout",
     "output_type": "stream",
     "text": [
      "1\n"
     ]
    }
   ],
   "source": [
    "tup = (1,2,3,4,5,6,7)\n",
    "print(tup[0])"
   ]
  },
  {
   "cell_type": "markdown",
   "metadata": {
    "id": "aZ_qeqMHrBE2"
   },
   "source": [
    "**[Slide No. - 40]**\n",
    "\n",
    "4.  What is the output of the program  \n",
    "\n",
    "tup = (1,2,3,4,5,6,7)\n",
    "\n",
    "print(tup[8])  "
   ]
  },
  {
   "cell_type": "code",
   "execution_count": 8,
   "metadata": {
    "id": "3LsWZNpJe-sr"
   },
   "outputs": [
    {
     "ename": "IndexError",
     "evalue": "tuple index out of range",
     "output_type": "error",
     "traceback": [
      "\u001b[1;31m---------------------------------------------------------------------------\u001b[0m",
      "\u001b[1;31mIndexError\u001b[0m                                Traceback (most recent call last)",
      "\u001b[1;32m<ipython-input-8-4fd7cc6dd192>\u001b[0m in \u001b[0;36m<module>\u001b[1;34m\u001b[0m\n\u001b[0;32m      1\u001b[0m \u001b[0mtup\u001b[0m \u001b[1;33m=\u001b[0m \u001b[1;33m(\u001b[0m\u001b[1;36m1\u001b[0m\u001b[1;33m,\u001b[0m\u001b[1;36m2\u001b[0m\u001b[1;33m,\u001b[0m\u001b[1;36m3\u001b[0m\u001b[1;33m,\u001b[0m\u001b[1;36m4\u001b[0m\u001b[1;33m,\u001b[0m\u001b[1;36m5\u001b[0m\u001b[1;33m,\u001b[0m\u001b[1;36m6\u001b[0m\u001b[1;33m,\u001b[0m\u001b[1;36m7\u001b[0m\u001b[1;33m)\u001b[0m\u001b[1;33m\u001b[0m\u001b[1;33m\u001b[0m\u001b[0m\n\u001b[0;32m      2\u001b[0m \u001b[1;33m\u001b[0m\u001b[0m\n\u001b[1;32m----> 3\u001b[1;33m \u001b[0mprint\u001b[0m\u001b[1;33m(\u001b[0m\u001b[0mtup\u001b[0m\u001b[1;33m[\u001b[0m\u001b[1;36m8\u001b[0m\u001b[1;33m]\u001b[0m\u001b[1;33m)\u001b[0m\u001b[1;33m\u001b[0m\u001b[1;33m\u001b[0m\u001b[0m\n\u001b[0m",
      "\u001b[1;31mIndexError\u001b[0m: tuple index out of range"
     ]
    }
   ],
   "source": [
    "tup = (1,2,3,4,5,6,7)\n",
    "\n",
    "print(tup[8])"
   ]
  },
  {
   "cell_type": "markdown",
   "metadata": {
    "id": "aROdqHSPrBHM"
   },
   "source": [
    "**[Slide No. 40]**\n",
    "\n",
    "5.  Write a program to concate two tuple."
   ]
  },
  {
   "cell_type": "code",
   "execution_count": 11,
   "metadata": {
    "colab": {
     "base_uri": "https://localhost:8080/"
    },
    "executionInfo": {
     "elapsed": 426,
     "status": "ok",
     "timestamp": 1621774702119,
     "user": {
      "displayName": "Krishan Kumar",
      "photoUrl": "",
      "userId": "12260471180281868064"
     },
     "user_tz": 420
    },
    "id": "kln1QAOLe_Gr",
    "outputId": "bef1c8e4-f06c-4c8d-d1ed-1351cb9c10e1"
   },
   "outputs": [
    {
     "name": "stdout",
     "output_type": "stream",
     "text": [
      "(1, 2, 3, 4)\n"
     ]
    }
   ],
   "source": [
    "\n",
    "T1=(1,2)\n",
    "T2=(3,4)\n",
    "T3=T1+T2\n",
    "print(T3)"
   ]
  },
  {
   "cell_type": "markdown",
   "metadata": {
    "id": "C7BdniSyrBJb"
   },
   "source": [
    "**[Slide No. 40]**\n",
    "\n",
    "6 .  Write a program to create the tuple and delete the items?"
   ]
  },
  {
   "cell_type": "code",
   "execution_count": 19,
   "metadata": {
    "colab": {
     "base_uri": "https://localhost:8080/"
    },
    "executionInfo": {
     "elapsed": 733,
     "status": "ok",
     "timestamp": 1621776060715,
     "user": {
      "displayName": "Krishan Kumar",
      "photoUrl": "",
      "userId": "12260471180281868064"
     },
     "user_tz": 420
    },
    "id": "JnBgxEFEe_rL",
    "outputId": "e525095c-8107-4ef1-fd2e-1a7fc5e65e24"
   },
   "outputs": [],
   "source": [
    "t1=(1,2,3,4,5,6)\n",
    "l1=list(t1)\n",
    "del l1[:]"
   ]
  },
  {
   "cell_type": "code",
   "execution_count": 20,
   "metadata": {
    "colab": {
     "base_uri": "https://localhost:8080/"
    },
    "executionInfo": {
     "elapsed": 426,
     "status": "ok",
     "timestamp": 1621775540750,
     "user": {
      "displayName": "Krishan Kumar",
      "photoUrl": "",
      "userId": "12260471180281868064"
     },
     "user_tz": 420
    },
    "id": "p0aT3fOzVRad",
    "outputId": "318d5f46-3d11-467d-f5f6-6034e1841101"
   },
   "outputs": [
    {
     "name": "stdout",
     "output_type": "stream",
     "text": [
      "[]\n"
     ]
    }
   ],
   "source": [
    "print(l1)"
   ]
  },
  {
   "cell_type": "markdown",
   "metadata": {
    "id": "rbAjLzFyrBU1"
   },
   "source": [
    "**[Slide No. 40]**\n",
    "\n",
    "7. Write a program to delete  2 index value from  tuples?"
   ]
  },
  {
   "cell_type": "code",
   "execution_count": 24,
   "metadata": {},
   "outputs": [],
   "source": [
    "t1=(1,2,3,4,5,6)"
   ]
  },
  {
   "cell_type": "code",
   "execution_count": 26,
   "metadata": {
    "id": "cckHUdKnfAL7"
   },
   "outputs": [
    {
     "data": {
      "text/plain": [
       "3"
      ]
     },
     "execution_count": 26,
     "metadata": {},
     "output_type": "execute_result"
    }
   ],
   "source": [
    "\n",
    "l2=list(t1)\n",
    "l2.pop(2)"
   ]
  },
  {
   "cell_type": "markdown",
   "metadata": {
    "id": "EmyErnscvJyV"
   },
   "source": [
    "**[Slide No. 40]**\n",
    "\n",
    "8. Check the output of \n",
    "tuple1 = (1, 2, 3, 4, 5)    \n",
    "\n",
    "using negative indexing print last two item of tuple\n",
    "\n",
    "using negative indexing print '4' from the tuple\n",
    "\n",
    "using negative indexing print all items of the list \n"
   ]
  },
  {
   "cell_type": "code",
   "execution_count": 35,
   "metadata": {
    "colab": {
     "base_uri": "https://localhost:8080/"
    },
    "executionInfo": {
     "elapsed": 9,
     "status": "ok",
     "timestamp": 1621776136564,
     "user": {
      "displayName": "Krishan Kumar",
      "photoUrl": "",
      "userId": "12260471180281868064"
     },
     "user_tz": 420
    },
    "id": "IkQiPA4neVHN",
    "outputId": "541a3d06-7059-4773-f000-55ee07d8911a"
   },
   "outputs": [
    {
     "name": "stdout",
     "output_type": "stream",
     "text": [
      "(4, 5)\n"
     ]
    }
   ],
   "source": [
    "tuple1 = (1, 2, 3, 4, 5)\n",
    "print(tuple1[-2:])\n"
   ]
  },
  {
   "cell_type": "code",
   "execution_count": 37,
   "metadata": {},
   "outputs": [
    {
     "name": "stdout",
     "output_type": "stream",
     "text": [
      "(4,)\n"
     ]
    }
   ],
   "source": [
    "print(tuple1[-2:-1])"
   ]
  },
  {
   "cell_type": "code",
   "execution_count": 39,
   "metadata": {},
   "outputs": [
    {
     "data": {
      "text/plain": [
       "5"
      ]
     },
     "execution_count": 39,
     "metadata": {},
     "output_type": "execute_result"
    }
   ],
   "source": [
    "len(tuple1)"
   ]
  },
  {
   "cell_type": "code",
   "execution_count": 40,
   "metadata": {},
   "outputs": [
    {
     "name": "stdout",
     "output_type": "stream",
     "text": [
      "(1, 2, 3, 4, 5)\n"
     ]
    }
   ],
   "source": [
    "print(tuple1[-5:])"
   ]
  },
  {
   "cell_type": "code",
   "execution_count": null,
   "metadata": {},
   "outputs": [],
   "source": []
  }
 ],
 "metadata": {
  "colab": {
   "collapsed_sections": [],
   "name": "Tuple.ipynb",
   "provenance": []
  },
  "kernelspec": {
   "display_name": "Python 3",
   "language": "python",
   "name": "python3"
  },
  "language_info": {
   "codemirror_mode": {
    "name": "ipython",
    "version": 3
   },
   "file_extension": ".py",
   "mimetype": "text/x-python",
   "name": "python",
   "nbconvert_exporter": "python",
   "pygments_lexer": "ipython3",
   "version": "3.7.3"
  }
 },
 "nbformat": 4,
 "nbformat_minor": 1
}
