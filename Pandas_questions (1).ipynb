{
  "nbformat": 4,
  "nbformat_minor": 0,
  "metadata": {
    "kernelspec": {
      "display_name": "Python 3",
      "language": "python",
      "name": "python3"
    },
    "language_info": {
      "codemirror_mode": {
        "name": "ipython",
        "version": 3
      },
      "file_extension": ".py",
      "mimetype": "text/x-python",
      "name": "python",
      "nbconvert_exporter": "python",
      "pygments_lexer": "ipython3",
      "version": "3.8.8"
    },
    "colab": {
      "name": "Pandas_questions.ipynb",
      "provenance": []
    }
  },
  "cells": [
    {
      "cell_type": "markdown",
      "metadata": {
        "id": "H_gjH2B0wPAP"
      },
      "source": [
        "1. Create 1-D array(series ) in pandas."
      ]
    },
    {
      "cell_type": "code",
      "metadata": {
        "id": "5ypA9b08wPAR",
        "outputId": "44d6929f-4f79-49bd-aec9-826d3709e436",
        "colab": {
          "base_uri": "https://localhost:8080/"
        }
      },
      "source": [
        "import pandas as pd\n",
        " \n",
        "data = [1, 2, 3, 4, 5]\n",
        "example = pd.Series(data)\n",
        "print(example)"
      ],
      "execution_count": 1,
      "outputs": [
        {
          "output_type": "stream",
          "text": [
            "0    1\n",
            "1    2\n",
            "2    3\n",
            "3    4\n",
            "4    5\n",
            "dtype: int64\n"
          ],
          "name": "stdout"
        }
      ]
    },
    {
      "cell_type": "markdown",
      "metadata": {
        "id": "AjAbKpbIwPAS"
      },
      "source": [
        "2. Create a pandas series from a list "
      ]
    },
    {
      "cell_type": "code",
      "metadata": {
        "id": "b4kSQJU0wPAS",
        "outputId": "e417eaf3-acae-48b7-f1b8-c819fc58e29c",
        "colab": {
          "base_uri": "https://localhost:8080/"
        }
      },
      "source": [
        "import pandas as pd\n",
        "\n",
        "MyList = ['Athul','Arun','Rahul']\n",
        "\n",
        "MySeries = pd.Series(MyList)\n",
        "\n",
        "print(MySeries)"
      ],
      "execution_count": 2,
      "outputs": [
        {
          "output_type": "stream",
          "text": [
            "0    Athul\n",
            "1     Arun\n",
            "2    Rahul\n",
            "dtype: object\n"
          ],
          "name": "stdout"
        }
      ]
    },
    {
      "cell_type": "markdown",
      "metadata": {
        "id": "4hqwShAEwPAT"
      },
      "source": [
        "3. Create a pandas series with user define index."
      ]
    },
    {
      "cell_type": "code",
      "metadata": {
        "id": "Cf5w7GLEwPAT",
        "outputId": "19d0483d-98b5-4172-e5b7-115e25f11666",
        "colab": {
          "base_uri": "https://localhost:8080/"
        }
      },
      "source": [
        "import pandas as pd\n",
        "import numpy as np\n",
        "\n",
        "mydata = np.array(['g', 'e', 'e', 'k', 's'])\n",
        "series1 = pd.Series(mydata, index =[1, 2, 3, 4, 5])\n",
        "print(series1)"
      ],
      "execution_count": 5,
      "outputs": [
        {
          "output_type": "stream",
          "text": [
            "1    g\n",
            "2    e\n",
            "3    e\n",
            "4    k\n",
            "5    s\n",
            "dtype: object\n"
          ],
          "name": "stdout"
        }
      ]
    },
    {
      "cell_type": "markdown",
      "metadata": {
        "id": "KRbqP4OWwPAT"
      },
      "source": [
        "4. Write a program to create Dataframe by Dictionay ."
      ]
    },
    {
      "cell_type": "code",
      "metadata": {
        "id": "wUNaNhWBwPAU",
        "outputId": "4acaf562-90f1-40ab-f884-8001a55cf49c",
        "colab": {
          "base_uri": "https://localhost:8080/",
          "height": 142
        }
      },
      "source": [
        "import pandas as pd\n",
        "\n",
        "dict1 = {\n",
        "    'Name' : ['Athul', 'Arun', 'Rahul'],\n",
        "    'Age' : [23, 21, 22],\n",
        "    'place' : ['Banalore', 'Mumbai', 'Delhi'],\n",
        "}\n",
        "\n",
        "df = pd.DataFrame(dict1)\n",
        "  \n",
        "df"
      ],
      "execution_count": 6,
      "outputs": [
        {
          "output_type": "execute_result",
          "data": {
            "text/html": [
              "<div>\n",
              "<style scoped>\n",
              "    .dataframe tbody tr th:only-of-type {\n",
              "        vertical-align: middle;\n",
              "    }\n",
              "\n",
              "    .dataframe tbody tr th {\n",
              "        vertical-align: top;\n",
              "    }\n",
              "\n",
              "    .dataframe thead th {\n",
              "        text-align: right;\n",
              "    }\n",
              "</style>\n",
              "<table border=\"1\" class=\"dataframe\">\n",
              "  <thead>\n",
              "    <tr style=\"text-align: right;\">\n",
              "      <th></th>\n",
              "      <th>Name</th>\n",
              "      <th>Age</th>\n",
              "      <th>place</th>\n",
              "    </tr>\n",
              "  </thead>\n",
              "  <tbody>\n",
              "    <tr>\n",
              "      <th>0</th>\n",
              "      <td>Athul</td>\n",
              "      <td>23</td>\n",
              "      <td>Banalore</td>\n",
              "    </tr>\n",
              "    <tr>\n",
              "      <th>1</th>\n",
              "      <td>Arun</td>\n",
              "      <td>21</td>\n",
              "      <td>Mumbai</td>\n",
              "    </tr>\n",
              "    <tr>\n",
              "      <th>2</th>\n",
              "      <td>Rahul</td>\n",
              "      <td>22</td>\n",
              "      <td>Delhi</td>\n",
              "    </tr>\n",
              "  </tbody>\n",
              "</table>\n",
              "</div>"
            ],
            "text/plain": [
              "    Name  Age     place\n",
              "0  Athul   23  Banalore\n",
              "1   Arun   21    Mumbai\n",
              "2  Rahul   22     Delhi"
            ]
          },
          "metadata": {
            "tags": []
          },
          "execution_count": 6
        }
      ]
    },
    {
      "cell_type": "markdown",
      "metadata": {
        "id": "dJas1usYwPAU"
      },
      "source": [
        "5. Create DataFrame and put index"
      ]
    },
    {
      "cell_type": "code",
      "metadata": {
        "id": "Xti34bPywPAV",
        "outputId": "ef822b14-d90e-415a-9a86-6d13d85432ec",
        "colab": {
          "base_uri": "https://localhost:8080/",
          "height": 142
        }
      },
      "source": [
        "import pandas as pd\n",
        "\n",
        "dict1 = {\n",
        "    'Name' : ['Athul', 'Arun', 'Rahul'],\n",
        "    'Age' : [23, 21, 22],\n",
        "    'place' : ['Banalore', 'Mumbai', 'Delhi'],\n",
        "}\n",
        "\n",
        "df = pd.DataFrame(dict1, index =['1','2','3'])\n",
        "  \n",
        "df"
      ],
      "execution_count": 7,
      "outputs": [
        {
          "output_type": "execute_result",
          "data": {
            "text/html": [
              "<div>\n",
              "<style scoped>\n",
              "    .dataframe tbody tr th:only-of-type {\n",
              "        vertical-align: middle;\n",
              "    }\n",
              "\n",
              "    .dataframe tbody tr th {\n",
              "        vertical-align: top;\n",
              "    }\n",
              "\n",
              "    .dataframe thead th {\n",
              "        text-align: right;\n",
              "    }\n",
              "</style>\n",
              "<table border=\"1\" class=\"dataframe\">\n",
              "  <thead>\n",
              "    <tr style=\"text-align: right;\">\n",
              "      <th></th>\n",
              "      <th>Name</th>\n",
              "      <th>Age</th>\n",
              "      <th>place</th>\n",
              "    </tr>\n",
              "  </thead>\n",
              "  <tbody>\n",
              "    <tr>\n",
              "      <th>1</th>\n",
              "      <td>Athul</td>\n",
              "      <td>23</td>\n",
              "      <td>Banalore</td>\n",
              "    </tr>\n",
              "    <tr>\n",
              "      <th>2</th>\n",
              "      <td>Arun</td>\n",
              "      <td>21</td>\n",
              "      <td>Mumbai</td>\n",
              "    </tr>\n",
              "    <tr>\n",
              "      <th>3</th>\n",
              "      <td>Rahul</td>\n",
              "      <td>22</td>\n",
              "      <td>Delhi</td>\n",
              "    </tr>\n",
              "  </tbody>\n",
              "</table>\n",
              "</div>"
            ],
            "text/plain": [
              "    Name  Age     place\n",
              "1  Athul   23  Banalore\n",
              "2   Arun   21    Mumbai\n",
              "3  Rahul   22     Delhi"
            ]
          },
          "metadata": {
            "tags": []
          },
          "execution_count": 7
        }
      ]
    },
    {
      "cell_type": "markdown",
      "metadata": {
        "id": "z4MY89nAwPAV"
      },
      "source": [
        "6.Accessing Data from Series with Position\n",
        "s = pd.Series([1,2,3,4,5],index = ['a','b','c','d','e'])"
      ]
    },
    {
      "cell_type": "code",
      "metadata": {
        "id": "RFrhJWE0wPAW",
        "outputId": "7f057024-66b8-4c3d-c34a-5e480566c501",
        "colab": {
          "base_uri": "https://localhost:8080/"
        }
      },
      "source": [
        "import pandas as pd\n",
        "s = pd.Series([1,2,3,4,5],index = ['a','b','c','d','e'])\n",
        "print(s['a'])"
      ],
      "execution_count": 15,
      "outputs": [
        {
          "output_type": "stream",
          "text": [
            "1\n"
          ],
          "name": "stdout"
        }
      ]
    },
    {
      "cell_type": "markdown",
      "metadata": {
        "id": "K2ZAWLQ8wPAW"
      },
      "source": [
        "7.Create a DataFrame in which you have 2 columns(Name , Age) . And fill the data into this columns and use user define index"
      ]
    },
    {
      "cell_type": "code",
      "metadata": {
        "id": "RCneQeMpwPAW",
        "outputId": "806511ac-7386-4495-92d5-daea155f8e4c",
        "colab": {
          "base_uri": "https://localhost:8080/",
          "height": 142
        }
      },
      "source": [
        "import pandas as pd\n",
        "\n",
        "students = []\n",
        "\n",
        "df = pd.DataFrame(students,columns=['Name', 'Age'])\n",
        "df.loc[0]=['Abhi',21]\n",
        "df.loc[len(df.index)]=['Manu',20]\n",
        "df.loc[len(df.index)]=['Tanu',21]\n",
        "df"
      ],
      "execution_count": 28,
      "outputs": [
        {
          "output_type": "execute_result",
          "data": {
            "text/html": [
              "<div>\n",
              "<style scoped>\n",
              "    .dataframe tbody tr th:only-of-type {\n",
              "        vertical-align: middle;\n",
              "    }\n",
              "\n",
              "    .dataframe tbody tr th {\n",
              "        vertical-align: top;\n",
              "    }\n",
              "\n",
              "    .dataframe thead th {\n",
              "        text-align: right;\n",
              "    }\n",
              "</style>\n",
              "<table border=\"1\" class=\"dataframe\">\n",
              "  <thead>\n",
              "    <tr style=\"text-align: right;\">\n",
              "      <th></th>\n",
              "      <th>Name</th>\n",
              "      <th>Age</th>\n",
              "    </tr>\n",
              "  </thead>\n",
              "  <tbody>\n",
              "    <tr>\n",
              "      <th>0</th>\n",
              "      <td>Abhi</td>\n",
              "      <td>21</td>\n",
              "    </tr>\n",
              "    <tr>\n",
              "      <th>1</th>\n",
              "      <td>Manu</td>\n",
              "      <td>20</td>\n",
              "    </tr>\n",
              "    <tr>\n",
              "      <th>2</th>\n",
              "      <td>Tanu</td>\n",
              "      <td>21</td>\n",
              "    </tr>\n",
              "  </tbody>\n",
              "</table>\n",
              "</div>"
            ],
            "text/plain": [
              "   Name Age\n",
              "0  Abhi  21\n",
              "1  Manu  20\n",
              "2  Tanu  21"
            ]
          },
          "metadata": {
            "tags": []
          },
          "execution_count": 28
        }
      ]
    },
    {
      "cell_type": "code",
      "metadata": {
        "id": "8LOjJ7np3ICi"
      },
      "source": [
        ""
      ],
      "execution_count": null,
      "outputs": []
    }
  ]
}